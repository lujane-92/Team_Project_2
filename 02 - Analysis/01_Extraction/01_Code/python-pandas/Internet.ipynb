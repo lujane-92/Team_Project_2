{
 "cells": [
  {
   "cell_type": "markdown",
   "metadata": {},
   "source": [
    "# 1. Json"
   ]
  },
  {
   "cell_type": "code",
   "execution_count": 1,
   "metadata": {},
   "outputs": [],
   "source": [
    "# Dependencies\n",
    "import json\n",
    "import requests\n",
    "import pandas as pd\n",
    "from pprint import pprint"
   ]
  },
  {
   "cell_type": "markdown",
   "metadata": {},
   "source": [
    "# 2. Url A"
   ]
  },
  {
   "cell_type": "code",
   "execution_count": 2,
   "metadata": {},
   "outputs": [],
   "source": [
    "#url = 'https://ourworldindata.org/grapher/data/variables/2209+41+72+123.json?v=1'\n",
    "url = 'https://ourworldindata.org/grapher/data/variables/99383.json?v=3'"
   ]
  },
  {
   "cell_type": "code",
   "execution_count": 3,
   "metadata": {},
   "outputs": [],
   "source": [
    "Get_Data = requests.get(url).json()"
   ]
  },
  {
   "cell_type": "code",
   "execution_count": 4,
   "metadata": {},
   "outputs": [],
   "source": [
    "#pprint(get_data)"
   ]
  },
  {
   "cell_type": "markdown",
   "metadata": {},
   "source": [
    "## 2.1. Country Data"
   ]
  },
  {
   "cell_type": "code",
   "execution_count": 5,
   "metadata": {},
   "outputs": [],
   "source": [
    "Country_ID = []\n",
    "Country_Name = []\n",
    "Country_Code = []\n",
    "\n",
    "for E in Get_Data['entityKey']:\n",
    "    Country_ID.append(E)\n",
    "    Country_Name.append(Get_Data['entityKey'][E]['name'])\n",
    "    Country_Code.append(Get_Data['entityKey'][E]['code'])"
   ]
  },
  {
   "cell_type": "code",
   "execution_count": 6,
   "metadata": {},
   "outputs": [
    {
     "name": "stdout",
     "output_type": "stream",
     "text": [
      "['1', '2', '3', '4', '5', '6', '7', '8', '9', '10', '11', '12', '13', '14', '15', '16', '17', '19', '20', '21', '22', '23', '24', '25', '26', '27', '28', '29', '30', '31', '32', '33', '34', '35', '36', '37', '38', '39', '40', '41', '42', '43', '44', '45', '60', '61', '62', '63', '64', '65', '66', '67', '68', '69', '70', '71', '72', '73', '74', '75', '76', '78', '79', '80', '81', '82', '83', '84', '85', '86', '87', '89', '90', '91', '92', '93', '94', '95', '96', '97', '98', '99', '100', '101', '102', '103', '104', '105', '106', '107', '108', '109', '110', '111', '112', '113', '114', '115', '116', '117', '118', '119', '120', '121', '122', '123', '124', '125', '126', '127', '128', '129', '130', '131', '132', '133', '134', '135', '136', '137', '138', '139', '140', '141', '142', '143', '144', '145', '146', '147', '148', '149', '150', '151', '152', '153', '154', '155', '156', '157', '158', '159', '160', '161', '162', '163', '164', '165', '166', '167', '168', '169', '170', '171', '172', '173', '174', '195', '201', '202', '203', '204', '206', '207', '208', '210', '211', '212', '213', '215', '217', '219', '220', '221', '222', '225', '226', '229', '230', '232', '233', '234', '235', '238', '239', '254', '256', '258', '259', '262', '279', '289', '355']\n"
     ]
    },
    {
     "data": {
      "text/plain": [
       "193"
      ]
     },
     "execution_count": 6,
     "metadata": {},
     "output_type": "execute_result"
    }
   ],
   "source": [
    "print(Country_ID)\n",
    "len(Country_ID)"
   ]
  },
  {
   "cell_type": "code",
   "execution_count": 7,
   "metadata": {},
   "outputs": [
    {
     "name": "stdout",
     "output_type": "stream",
     "text": [
      "['GBR', 'IRL', 'FRA', 'BEL', 'NLD', 'DEU', 'CHE', 'ITA', 'ESP', 'SWE', 'POL', 'RUS', 'USA', 'JPN', 'AFG', 'ALB', 'DZA', 'AGO', 'ATG', 'ARG', 'ARM', 'AUS', 'AUT', 'AZE', 'BHS', 'BHR', 'BGD', 'BRB', 'BLR', 'BLZ', 'BEN', 'BTN', 'BOL', 'BIH', 'BWA', 'BRA', 'BRN', 'BGR', 'BFA', 'BDI', 'KHM', 'CMR', 'CAN', 'CPV', 'ZMB', 'YEM', 'UZB', 'URY', 'TZA', 'EGY', 'MKD', 'UKR', 'UGA', 'TKM', 'TUR', 'TUN', 'ARE', 'TTO', 'TGO', 'THA', 'TJK', 'SWZ', 'SDN', 'ZWE', 'ZAF', 'SOM', 'SVN', 'VNM', 'SVK', 'SGP', 'SLE', 'SEN', 'SAU', 'RWA', 'ROU', 'PRI', 'GNB', 'PRT', 'PHL', 'PER', 'PRY', 'PNG', 'PAN', 'PAK', 'NOR', 'NGA', 'NER', 'NIC', 'NZL', 'NPL', 'NAM', 'MOZ', 'MAR', 'MDA', 'MNG', 'MEX', 'MRT', 'MLI', 'MYS', 'MWI', 'MDG', 'LTU', 'LBY', 'LBR', 'LVA', 'LSO', 'LBN', 'LAO', 'KGZ', 'KOR', 'PRK', 'KEN', 'JOR', 'KAZ', 'JAM', 'ISR', 'IRQ', 'IRN', 'IDN', 'IND', 'HUN', 'HND', 'PSE', 'LKA', 'MMR', 'CIV', 'HKG', 'HTI', 'GUY', 'GIN', 'GTM', 'GRC', 'GHA', 'GMB', 'GEO', 'GAB', 'DJI', 'FIN', 'EST', 'ERI', 'ETH', 'GNQ', 'DOM', 'DNK', 'CZE', 'CYP', 'CUB', 'HRV', 'CRI', 'COD', 'COG', 'COM', 'COL', 'CHN', 'CHL', 'TCD', 'CAF', 'SLB', 'ECU', 'FJI', 'PYF', 'KIR', 'GRD', 'ISL', 'KWT', 'LUX', 'MDV', 'MLT', 'MUS', 'MNE', 'OMN', 'ABW', 'NCL', 'VUT', 'FSM', 'TLS', 'QAT', 'LCA', 'VCT', 'STP', 'SYC', 'SUR', 'TON', 'VEN', 'WSM', 'GUM', 'VIR', 'SSD', 'SLV', 'MAC', 'CUW', None, 'OWID_WRL']\n"
     ]
    },
    {
     "data": {
      "text/plain": [
       "193"
      ]
     },
     "execution_count": 7,
     "metadata": {},
     "output_type": "execute_result"
    }
   ],
   "source": [
    "print(Country_Code)\n",
    "len(Country_Code)"
   ]
  },
  {
   "cell_type": "code",
   "execution_count": 8,
   "metadata": {},
   "outputs": [
    {
     "name": "stdout",
     "output_type": "stream",
     "text": [
      "['United Kingdom', 'Ireland', 'France', 'Belgium', 'Netherlands', 'Germany', 'Switzerland', 'Italy', 'Spain', 'Sweden', 'Poland', 'Russia', 'United States', 'Japan', 'Afghanistan', 'Albania', 'Algeria', 'Angola', 'Antigua and Barbuda', 'Argentina', 'Armenia', 'Australia', 'Austria', 'Azerbaijan', 'Bahamas', 'Bahrain', 'Bangladesh', 'Barbados', 'Belarus', 'Belize', 'Benin', 'Bhutan', 'Bolivia', 'Bosnia and Herzegovina', 'Botswana', 'Brazil', 'Brunei', 'Bulgaria', 'Burkina Faso', 'Burundi', 'Cambodia', 'Cameroon', 'Canada', 'Cape Verde', 'Zambia', 'Yemen', 'Uzbekistan', 'Uruguay', 'Tanzania', 'Egypt', 'Macedonia', 'Ukraine', 'Uganda', 'Turkmenistan', 'Turkey', 'Tunisia', 'United Arab Emirates', 'Trinidad and Tobago', 'Togo', 'Thailand', 'Tajikistan', 'Swaziland', 'Sudan', 'Zimbabwe', 'South Africa', 'Somalia', 'Slovenia', 'Vietnam', 'Slovakia', 'Singapore', 'Sierra Leone', 'Senegal', 'Saudi Arabia', 'Rwanda', 'Romania', 'Puerto Rico', 'Guinea-Bissau', 'Portugal', 'Philippines', 'Peru', 'Paraguay', 'Papua New Guinea', 'Panama', 'Pakistan', 'Norway', 'Nigeria', 'Niger', 'Nicaragua', 'New Zealand', 'Nepal', 'Namibia', 'Mozambique', 'Morocco', 'Moldova', 'Mongolia', 'Mexico', 'Mauritania', 'Mali', 'Malaysia', 'Malawi', 'Madagascar', 'Lithuania', 'Libya', 'Liberia', 'Latvia', 'Lesotho', 'Lebanon', 'Laos', 'Kyrgyzstan', 'South Korea', 'North Korea', 'Kenya', 'Jordan', 'Kazakhstan', 'Jamaica', 'Israel', 'Iraq', 'Iran', 'Indonesia', 'India', 'Hungary', 'Honduras', 'Palestine', 'Sri Lanka', 'Myanmar', \"Cote d'Ivoire\", 'Hong Kong', 'Haiti', 'Guyana', 'Guinea', 'Guatemala', 'Greece', 'Ghana', 'Gambia', 'Georgia', 'Gabon', 'Djibouti', 'Finland', 'Estonia', 'Eritrea', 'Ethiopia', 'Equatorial Guinea', 'Dominican Republic', 'Denmark', 'Czech Republic', 'Cyprus', 'Cuba', 'Croatia', 'Costa Rica', 'Democratic Republic of Congo', 'Congo', 'Comoros', 'Colombia', 'China', 'Chile', 'Chad', 'Central African Republic', 'Solomon Islands', 'Ecuador', 'Fiji', 'French Polynesia', 'Kiribati', 'Grenada', 'Iceland', 'Kuwait', 'Luxembourg', 'Maldives', 'Malta', 'Mauritius', 'Montenegro', 'Oman', 'Aruba', 'New Caledonia', 'Vanuatu', 'Micronesia (country)', 'Timor', 'Qatar', 'Saint Lucia', 'Saint Vincent and the Grenadines', 'Sao Tome and Principe', 'Seychelles', 'Suriname', 'Tonga', 'Venezuela', 'Samoa', 'Guam', 'United States Virgin Islands', 'South Sudan', 'El Salvador', 'Macao', 'Curacao', 'Sub-Saharan Africa', 'World']\n"
     ]
    },
    {
     "data": {
      "text/plain": [
       "193"
      ]
     },
     "execution_count": 8,
     "metadata": {},
     "output_type": "execute_result"
    }
   ],
   "source": [
    "print(Country_Name)\n",
    "len(Country_Name)"
   ]
  },
  {
   "cell_type": "code",
   "execution_count": 9,
   "metadata": {},
   "outputs": [],
   "source": [
    "Country_df = pd.DataFrame({\n",
    "    'Country_ID'    : Country_ID,\n",
    "    'Country_Code'  : Country_Code,\n",
    "    'Country_Name'  : Country_Name\n",
    "    \n",
    "})"
   ]
  },
  {
   "cell_type": "code",
   "execution_count": 10,
   "metadata": {},
   "outputs": [
    {
     "data": {
      "text/html": [
       "<div>\n",
       "<style scoped>\n",
       "    .dataframe tbody tr th:only-of-type {\n",
       "        vertical-align: middle;\n",
       "    }\n",
       "\n",
       "    .dataframe tbody tr th {\n",
       "        vertical-align: top;\n",
       "    }\n",
       "\n",
       "    .dataframe thead th {\n",
       "        text-align: right;\n",
       "    }\n",
       "</style>\n",
       "<table border=\"1\" class=\"dataframe\">\n",
       "  <thead>\n",
       "    <tr style=\"text-align: right;\">\n",
       "      <th></th>\n",
       "      <th>Country_ID</th>\n",
       "      <th>Country_Code</th>\n",
       "      <th>Country_Name</th>\n",
       "    </tr>\n",
       "  </thead>\n",
       "  <tbody>\n",
       "    <tr>\n",
       "      <th>0</th>\n",
       "      <td>1</td>\n",
       "      <td>GBR</td>\n",
       "      <td>United Kingdom</td>\n",
       "    </tr>\n",
       "    <tr>\n",
       "      <th>1</th>\n",
       "      <td>2</td>\n",
       "      <td>IRL</td>\n",
       "      <td>Ireland</td>\n",
       "    </tr>\n",
       "    <tr>\n",
       "      <th>2</th>\n",
       "      <td>3</td>\n",
       "      <td>FRA</td>\n",
       "      <td>France</td>\n",
       "    </tr>\n",
       "    <tr>\n",
       "      <th>3</th>\n",
       "      <td>4</td>\n",
       "      <td>BEL</td>\n",
       "      <td>Belgium</td>\n",
       "    </tr>\n",
       "    <tr>\n",
       "      <th>4</th>\n",
       "      <td>5</td>\n",
       "      <td>NLD</td>\n",
       "      <td>Netherlands</td>\n",
       "    </tr>\n",
       "    <tr>\n",
       "      <th>...</th>\n",
       "      <td>...</td>\n",
       "      <td>...</td>\n",
       "      <td>...</td>\n",
       "    </tr>\n",
       "    <tr>\n",
       "      <th>188</th>\n",
       "      <td>259</td>\n",
       "      <td>SLV</td>\n",
       "      <td>El Salvador</td>\n",
       "    </tr>\n",
       "    <tr>\n",
       "      <th>189</th>\n",
       "      <td>262</td>\n",
       "      <td>MAC</td>\n",
       "      <td>Macao</td>\n",
       "    </tr>\n",
       "    <tr>\n",
       "      <th>190</th>\n",
       "      <td>279</td>\n",
       "      <td>CUW</td>\n",
       "      <td>Curacao</td>\n",
       "    </tr>\n",
       "    <tr>\n",
       "      <th>191</th>\n",
       "      <td>289</td>\n",
       "      <td>None</td>\n",
       "      <td>Sub-Saharan Africa</td>\n",
       "    </tr>\n",
       "    <tr>\n",
       "      <th>192</th>\n",
       "      <td>355</td>\n",
       "      <td>OWID_WRL</td>\n",
       "      <td>World</td>\n",
       "    </tr>\n",
       "  </tbody>\n",
       "</table>\n",
       "<p>193 rows × 3 columns</p>\n",
       "</div>"
      ],
      "text/plain": [
       "    Country_ID Country_Code        Country_Name\n",
       "0            1          GBR      United Kingdom\n",
       "1            2          IRL             Ireland\n",
       "2            3          FRA              France\n",
       "3            4          BEL             Belgium\n",
       "4            5          NLD         Netherlands\n",
       "..         ...          ...                 ...\n",
       "188        259          SLV         El Salvador\n",
       "189        262          MAC               Macao\n",
       "190        279          CUW             Curacao\n",
       "191        289         None  Sub-Saharan Africa\n",
       "192        355     OWID_WRL               World\n",
       "\n",
       "[193 rows x 3 columns]"
      ]
     },
     "execution_count": 10,
     "metadata": {},
     "output_type": "execute_result"
    }
   ],
   "source": [
    "Country_df"
   ]
  },
  {
   "cell_type": "code",
   "execution_count": 17,
   "metadata": {},
   "outputs": [],
   "source": [
    "# Export to CSV\n",
    "Country_df.to_csv(\"../../data_source/Country_df.csv\",\n",
    "                   index=False, \n",
    "                   header=True\n",
    "                  )"
   ]
  },
  {
   "cell_type": "markdown",
   "metadata": {},
   "source": [
    "## 2.2 Values"
   ]
  },
  {
   "cell_type": "code",
   "execution_count": 11,
   "metadata": {},
   "outputs": [],
   "source": [
    "Country_ID    = []\n",
    "Country_Value = []\n",
    "Country_Years = []\n",
    "\n",
    "for V in Get_Data['variables']:\n",
    "    Country_ID.append(Get_Data['variables']['99383']['entities'])\n",
    "    Country_Value.append(Get_Data['variables']['99383']['values'])\n",
    "    Country_Years.append(Get_Data['variables']['99383']['years'])\n",
    "    \n",
    "\n",
    "    "
   ]
  },
  {
   "cell_type": "code",
   "execution_count": 12,
   "metadata": {},
   "outputs": [],
   "source": [
    "Country_ID = []\n",
    "Country_Value = []\n",
    "Country_Years = []\n",
    "\n",
    "\n",
    "IDs      = Get_Data['variables']['99383']['entities'] \n",
    "Values   = Get_Data['variables']['99383']['values']\n",
    "Years    = Get_Data['variables']['99383']['years']\n",
    "    \n",
    "    \n",
    "for I in IDs:\n",
    "    Country_ID.append(I)\n",
    "\n",
    "for V in Values:\n",
    "    Country_Value.append(V)\n",
    "    \n",
    "for Y in Years:\n",
    "    Country_Years.append(Y)"
   ]
  },
  {
   "cell_type": "code",
   "execution_count": 13,
   "metadata": {},
   "outputs": [],
   "source": [
    "#print(Country_ID)"
   ]
  },
  {
   "cell_type": "code",
   "execution_count": 14,
   "metadata": {},
   "outputs": [],
   "source": [
    "Country_Values_df = pd.DataFrame({\n",
    "    'Country_ID'     : Country_ID,\n",
    "    'Country_Years'  : Country_Years,\n",
    "    'Country_Value'  : Country_Value\n",
    "})"
   ]
  },
  {
   "cell_type": "code",
   "execution_count": 15,
   "metadata": {},
   "outputs": [
    {
     "data": {
      "text/html": [
       "<div>\n",
       "<style scoped>\n",
       "    .dataframe tbody tr th:only-of-type {\n",
       "        vertical-align: middle;\n",
       "    }\n",
       "\n",
       "    .dataframe tbody tr th {\n",
       "        vertical-align: top;\n",
       "    }\n",
       "\n",
       "    .dataframe thead th {\n",
       "        text-align: right;\n",
       "    }\n",
       "</style>\n",
       "<table border=\"1\" class=\"dataframe\">\n",
       "  <thead>\n",
       "    <tr style=\"text-align: right;\">\n",
       "      <th></th>\n",
       "      <th>Country_ID</th>\n",
       "      <th>Country_Value</th>\n",
       "      <th>Country_Years</th>\n",
       "    </tr>\n",
       "  </thead>\n",
       "  <tbody>\n",
       "    <tr>\n",
       "      <th>0</th>\n",
       "      <td>15</td>\n",
       "      <td>0</td>\n",
       "      <td>1990</td>\n",
       "    </tr>\n",
       "    <tr>\n",
       "      <th>1</th>\n",
       "      <td>16</td>\n",
       "      <td>0</td>\n",
       "      <td>1990</td>\n",
       "    </tr>\n",
       "    <tr>\n",
       "      <th>2</th>\n",
       "      <td>17</td>\n",
       "      <td>0</td>\n",
       "      <td>1990</td>\n",
       "    </tr>\n",
       "    <tr>\n",
       "      <th>3</th>\n",
       "      <td>19</td>\n",
       "      <td>0</td>\n",
       "      <td>1990</td>\n",
       "    </tr>\n",
       "    <tr>\n",
       "      <th>4</th>\n",
       "      <td>20</td>\n",
       "      <td>0</td>\n",
       "      <td>1990</td>\n",
       "    </tr>\n",
       "    <tr>\n",
       "      <th>...</th>\n",
       "      <td>...</td>\n",
       "      <td>...</td>\n",
       "      <td>...</td>\n",
       "    </tr>\n",
       "    <tr>\n",
       "      <th>4531</th>\n",
       "      <td>75</td>\n",
       "      <td>36515273</td>\n",
       "      <td>2017</td>\n",
       "    </tr>\n",
       "    <tr>\n",
       "      <th>4532</th>\n",
       "      <td>74</td>\n",
       "      <td>963813</td>\n",
       "      <td>2017</td>\n",
       "    </tr>\n",
       "    <tr>\n",
       "      <th>4533</th>\n",
       "      <td>71</td>\n",
       "      <td>6400330</td>\n",
       "      <td>2017</td>\n",
       "    </tr>\n",
       "    <tr>\n",
       "      <th>4534</th>\n",
       "      <td>70</td>\n",
       "      <td>52229607</td>\n",
       "      <td>2017</td>\n",
       "    </tr>\n",
       "    <tr>\n",
       "      <th>4535</th>\n",
       "      <td>72</td>\n",
       "      <td>8913210</td>\n",
       "      <td>2017</td>\n",
       "    </tr>\n",
       "  </tbody>\n",
       "</table>\n",
       "<p>4536 rows × 3 columns</p>\n",
       "</div>"
      ],
      "text/plain": [
       "      Country_ID  Country_Value  Country_Years\n",
       "0             15              0           1990\n",
       "1             16              0           1990\n",
       "2             17              0           1990\n",
       "3             19              0           1990\n",
       "4             20              0           1990\n",
       "...          ...            ...            ...\n",
       "4531          75       36515273           2017\n",
       "4532          74         963813           2017\n",
       "4533          71        6400330           2017\n",
       "4534          70       52229607           2017\n",
       "4535          72        8913210           2017\n",
       "\n",
       "[4536 rows x 3 columns]"
      ]
     },
     "execution_count": 15,
     "metadata": {},
     "output_type": "execute_result"
    }
   ],
   "source": [
    "Country_Values_df"
   ]
  },
  {
   "cell_type": "code",
   "execution_count": 18,
   "metadata": {},
   "outputs": [],
   "source": [
    "# Export to CSV\n",
    "Country_Values_df.to_csv(\"../../data_source/Country_Values_df.csv\",\n",
    "                   index=False, \n",
    "                   header=True\n",
    "                  )"
   ]
  },
  {
   "cell_type": "code",
   "execution_count": null,
   "metadata": {},
   "outputs": [],
   "source": []
  },
  {
   "cell_type": "code",
   "execution_count": null,
   "metadata": {},
   "outputs": [],
   "source": []
  },
  {
   "cell_type": "code",
   "execution_count": null,
   "metadata": {},
   "outputs": [],
   "source": []
  },
  {
   "cell_type": "code",
   "execution_count": null,
   "metadata": {},
   "outputs": [],
   "source": []
  },
  {
   "cell_type": "code",
   "execution_count": null,
   "metadata": {},
   "outputs": [],
   "source": []
  },
  {
   "cell_type": "code",
   "execution_count": null,
   "metadata": {},
   "outputs": [],
   "source": []
  },
  {
   "cell_type": "code",
   "execution_count": null,
   "metadata": {},
   "outputs": [],
   "source": []
  },
  {
   "cell_type": "code",
   "execution_count": null,
   "metadata": {},
   "outputs": [],
   "source": []
  },
  {
   "cell_type": "code",
   "execution_count": null,
   "metadata": {},
   "outputs": [],
   "source": []
  },
  {
   "cell_type": "code",
   "execution_count": null,
   "metadata": {},
   "outputs": [],
   "source": []
  },
  {
   "cell_type": "code",
   "execution_count": null,
   "metadata": {},
   "outputs": [],
   "source": []
  },
  {
   "cell_type": "code",
   "execution_count": null,
   "metadata": {},
   "outputs": [],
   "source": []
  },
  {
   "cell_type": "code",
   "execution_count": null,
   "metadata": {},
   "outputs": [],
   "source": []
  },
  {
   "cell_type": "code",
   "execution_count": null,
   "metadata": {},
   "outputs": [],
   "source": []
  },
  {
   "cell_type": "code",
   "execution_count": null,
   "metadata": {},
   "outputs": [],
   "source": []
  },
  {
   "cell_type": "code",
   "execution_count": null,
   "metadata": {},
   "outputs": [],
   "source": []
  },
  {
   "cell_type": "code",
   "execution_count": null,
   "metadata": {},
   "outputs": [],
   "source": []
  }
 ],
 "metadata": {
  "kernelspec": {
   "display_name": "Python 3",
   "language": "python",
   "name": "python3"
  },
  "language_info": {
   "codemirror_mode": {
    "name": "ipython",
    "version": 3
   },
   "file_extension": ".py",
   "mimetype": "text/x-python",
   "name": "python",
   "nbconvert_exporter": "python",
   "pygments_lexer": "ipython3",
   "version": "3.7.7"
  },
  "varInspector": {
   "cols": {
    "lenName": 16,
    "lenType": 16,
    "lenVar": 40
   },
   "kernels_config": {
    "python": {
     "delete_cmd_postfix": "",
     "delete_cmd_prefix": "del ",
     "library": "var_list.py",
     "varRefreshCmd": "print(var_dic_list())"
    },
    "r": {
     "delete_cmd_postfix": ") ",
     "delete_cmd_prefix": "rm(",
     "library": "var_list.r",
     "varRefreshCmd": "cat(var_dic_list()) "
    }
   },
   "types_to_exclude": [
    "module",
    "function",
    "builtin_function_or_method",
    "instance",
    "_Feature"
   ],
   "window_display": false
  }
 },
 "nbformat": 4,
 "nbformat_minor": 4
}
