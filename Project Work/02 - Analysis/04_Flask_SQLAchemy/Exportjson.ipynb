{
 "cells": [
  {
   "cell_type": "code",
   "execution_count": 8,
   "metadata": {},
   "outputs": [],
   "source": [
    "import requests\n",
    "import json\n",
    "\n",
    "url = 'http://127.0.0.1:5000/api/v1.0/WebIndex1'\n",
    "Get_Data = requests.get(url).json()\n",
    "\n",
    "with open('WebIndex1_JavaScript_2.json', 'w') as f:\n",
    "    json.dump(requests.get(url).json(), f)"
   ]
  },
  {
   "cell_type": "code",
   "execution_count": 9,
   "metadata": {},
   "outputs": [],
   "source": [
    "url = 'http://127.0.0.1:5000/api/v1.0/WebIndex2'\n",
    "Get_Data = requests.get(url).json()\n",
    "\n",
    "with open('WebIndex2_JavaScript_2.json', 'w') as f:\n",
    "    json.dump(requests.get(url).json(), f)"
   ]
  },
  {
   "cell_type": "code",
   "execution_count": 10,
   "metadata": {},
   "outputs": [],
   "source": [
    "url = 'http://127.0.0.1:5000/api/v1.0/InternetByCountry'\n",
    "Get_Data = requests.get(url).json()\n",
    "\n",
    "with open('InternetByCountry_JavaScript_2.json', 'w') as f:\n",
    "    json.dump(requests.get(url).json(), f)"
   ]
  },
  {
   "cell_type": "code",
   "execution_count": 11,
   "metadata": {},
   "outputs": [],
   "source": [
    "url = 'http://127.0.0.1:5000/api/v1.0/WorldInternet'\n",
    "Get_Data = requests.get(url).json()\n",
    "\n",
    "with open('WorldInternet_JavaScript_2.json', 'w') as f:\n",
    "    json.dump(requests.get(url).json(), f)"
   ]
  },
  {
   "cell_type": "code",
   "execution_count": 12,
   "metadata": {},
   "outputs": [],
   "source": [
    "url = 'http://127.0.0.1:5000/api/v1.0/CostandSpeed'\n",
    "Get_Data = requests.get(url).json()\n",
    "\n",
    "with open('CostandSpeed_JavaScript_2.json', 'w') as f:\n",
    "    json.dump(requests.get(url).json(), f)"
   ]
  },
  {
   "cell_type": "code",
   "execution_count": null,
   "metadata": {},
   "outputs": [],
   "source": []
  }
 ],
 "metadata": {
  "kernelspec": {
   "display_name": "Python 3",
   "language": "python",
   "name": "python3"
  },
  "language_info": {
   "codemirror_mode": {
    "name": "ipython",
    "version": 3
   },
   "file_extension": ".py",
   "mimetype": "text/x-python",
   "name": "python",
   "nbconvert_exporter": "python",
   "pygments_lexer": "ipython3",
   "version": "3.6.10"
  }
 },
 "nbformat": 4,
 "nbformat_minor": 4
}
